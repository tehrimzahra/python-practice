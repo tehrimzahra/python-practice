{
 "cells": [
  {
   "cell_type": "code",
   "execution_count": null,
   "metadata": {},
   "outputs": [],
   "source": [
    "def manage_student_database():\n",
    "    student_list = []  # List to hold student tuples (ID, name)\n",
    "    student_id = 1     # Start ID numbering from 1\n",
    "    student_names = set()  # Set to track names and prevent duplicates\n",
    "\n",
    "    while True:\n",
    "        name = input(\"Enter student name (or type 'stop' to finish): \").strip()\n",
    "        \n",
    "        if name.lower() == 'stop':\n",
    "            break\n",
    "        \n",
    "        if name in student_names:\n",
    "            print(f\"Duplicate found: {name} is already in the list.\")\n",
    "            continue\n",
    "        \n",
    "        student_list.append((student_id, name))  # Append the tuple (ID, name)\n",
    "        student_names.add(name)  # Add name to set to track duplicates\n",
    "        student_id += 1\n",
    "\n",
    "    # Display all students as tuples\n",
    "    print(\"\\nStudent List (ID, Name):\")\n",
    "    for student in student_list:\n",
    "        print(student)\n",
    "\n",
    "    # Display each student's ID and Name\n",
    "    print(\"\\nStudent Details:\")\n",
    "    for student in student_list:\n",
    "        print(f\"ID: {student[0]}, Name: {student[1]}\")\n",
    "\n",
    "    # Total number of students\n",
    "    total_students = len(student_list)\n",
    "    print(f\"\\nTotal number of students: {total_students}\")\n",
    "\n",
    "    # Calculate total length of all student names\n",
    "    total_name_length = sum(len(student[1]) for student in student_list)\n",
    "    print(f\"Total length of all student names combined: {total_name_length}\")\n",
    "\n",
    "    # Find the student with the longest name\n",
    "    if student_list:\n",
    "        longest_name_student = max(student_list, key=lambda x: len(x[1]))\n",
    "        print(f\"Student with the longest name: {longest_name_student[1]} (ID: {longest_name_student[0]})\")\n",
    "\n",
    "        # Find the student with the shortest name\n",
    "        shortest_name_student = min(student_list, key=lambda x: len(x[1]))\n",
    "        print(f\"Student with the shortest name: {shortest_name_student[1]} (ID: {shortest_name_student[0]})\")\n",
    "\n",
    "# Call the function to run the student database manager\n",
    "manage_student_database()\n"
   ]
  }
 ],
 "metadata": {
  "language_info": {
   "name": "python"
  }
 },
 "nbformat": 4,
 "nbformat_minor": 2
}
